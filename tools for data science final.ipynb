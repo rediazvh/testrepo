{
 "cells": [
  {
   "cell_type": "markdown",
   "id": "4f20bd63-ff86-48f5-8a4a-9a06676f03dc",
   "metadata": {
    "tags": []
   },
   "source": [
    "# MY JUPYTER NOTEBOOK ON WATSON STUDIO"
   ]
  },
  {
   "cell_type": "markdown",
   "id": "85f28c30-a073-4669-8ae2-532b56cb2a17",
   "metadata": {},
   "source": [
    "REDIAZ VISATYA HENDRAWAN"
   ]
  },
  {
   "cell_type": "markdown",
   "id": "acea497d-c4c9-4caa-aa18-d672fcd5a6b5",
   "metadata": {},
   "source": [
    "_i'm interested in data science because data is the new oil and the company that i work for soon will transform from telecommunication to digital company_"
   ]
  },
  {
   "cell_type": "markdown",
   "id": "a54c4550-8a8e-4c07-b3d3-681b847760ff",
   "metadata": {},
   "source": [
    "### ADDITION CODE\n"
   ]
  },
  {
   "cell_type": "code",
   "execution_count": 2,
   "id": "c743d5b2-524e-44f9-b73a-a49f4aae229c",
   "metadata": {},
   "outputs": [
    {
     "data": {
      "text/plain": [
       "2"
      ]
     },
     "execution_count": 2,
     "metadata": {},
     "output_type": "execute_result"
    }
   ],
   "source": [
    "1+1"
   ]
  },
  {
   "cell_type": "markdown",
   "id": "c9317bae-319d-4ec0-8861-a687d6a2a4ab",
   "metadata": {},
   "source": [
    "|Tables |Are |Cool|\n",
    "|-------|:----:|----:|\n",
    "|Learn  |data  |science|\n",
    "|-------|----|----|\n",
    "|always | **beat**|~~Yesterday~~|\n",
    "\n",
    "> this is blockquotes, very handy in email to emulate reply text\n",
    "\n"
   ]
  },
  {
   "cell_type": "code",
   "execution_count": null,
   "id": "ddd8298d-dec5-4af4-b2f9-83fed4c691fd",
   "metadata": {},
   "outputs": [],
   "source": []
  }
 ],
 "metadata": {
  "kernelspec": {
   "display_name": "Python",
   "language": "python",
   "name": "conda-env-python-py"
  },
  "language_info": {
   "codemirror_mode": {
    "name": "ipython",
    "version": 3
   },
   "file_extension": ".py",
   "mimetype": "text/x-python",
   "name": "python",
   "nbconvert_exporter": "python",
   "pygments_lexer": "ipython3",
   "version": "3.7.12"
  }
 },
 "nbformat": 4,
 "nbformat_minor": 5
}
